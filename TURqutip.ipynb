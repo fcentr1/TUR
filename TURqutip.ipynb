{
 "cells": [
  {
   "cell_type": "code",
   "execution_count": 5,
   "id": "823c5023",
   "metadata": {},
   "outputs": [],
   "source": [
    "from qutip import *\n",
    "import numpy as np\n",
    "import matplotlib.pyplot as plt\n",
    "\n",
    "def rotateToEigenH(O,H): #rotate an operator $O$ in the basis of the eigenstates of the hamiltonian $H$\n",
    "    RH=np.array(H.eigenstates()[1][0])\n",
    "    for V in H.eigenstates()[1][1:]:\n",
    "        RH=np.column_stack((RH,np.array(V)))\n",
    "    RH=Qobj(RH, dims=H.dims)\n",
    "    return RH.dag()*O*RH\n",
    "\n",
    "def rate(nu,beta,E):\n",
    "    return nu*E/(np.exp(beta*E)-1)\n",
    "\n",
    "def ratebar(nu,beta,E):\n",
    "    return nu*E*np.exp(beta*E)/(np.exp(beta*E)-1)\n",
    "\n",
    "def jumpOp(params,H):\n",
    "    DIM=H.dims\n",
    "    nuC=params[0] #Coupling to cold bath\n",
    "    nuH=params[1] #Coupling to hot bath\n",
    "    betaC=params[2] #Inverse temperature of the cold bath\n",
    "    betaH=params[3] #Inverse temperature of the hot bath\n",
    "    E=H.eigenenergies()\n",
    "    eigH=[]\n",
    "    for V in H.eigenstates()[1]:\n",
    "        eigH.append(V)\n",
    "    #These definitions are a bit hard to read but it was very easy to code. Essentially I'm rewriting the above operators directly as a function of the hamiltonian\n",
    "#eigenstates, doing explicitely the outer product of the corresponding ket and bra.\n",
    "#Since the dimension of the final quantum object is not correct, I cast it to a numpy array and then back to Qobj with the correct dims.\n",
    "#The pedex c and h stands for cold and hot, while m is for lower transition (minus) and p upper transition (plus).\n",
    "    Lcm=Qobj(eigH[2]*eigH[3].dag()-eigH[0]*eigH[1].dag())/np.sqrt(2)\n",
    "    Lcp=Qobj(eigH[1]*eigH[3].dag()+eigH[0]*eigH[2].dag())/np.sqrt(2)\n",
    "    Lhm=Qobj(eigH[2]*eigH[3].dag()+eigH[0]*eigH[1].dag())/np.sqrt(2)\n",
    "    Lhp=Qobj(-eigH[1]*eigH[3].dag()+eigH[0]*eigH[2].dag())/np.sqrt(2)\n",
    "    c_ops = []\n",
    "\n",
    "    gamma = rate(nuC,betaC,E[1])\n",
    "    if gamma > 0.0:\n",
    "        c_ops.append(np.sqrt(gamma) * Lcm.dag())\n",
    "\n",
    "    gamma = rate(nuH,betaH,E[1])\n",
    "    if gamma > 0.0:\n",
    "        c_ops.append(np.sqrt(gamma) * Lhm.dag())\n",
    "\n",
    "    gamma = rate(nuC,betaC,E[2])\n",
    "    if gamma > 0.0:\n",
    "        c_ops.append(np.sqrt(gamma) * Lcp.dag())\n",
    "\n",
    "    gamma = rate(nuH,betaH,E[2])\n",
    "    if gamma > 0.0:\n",
    "        c_ops.append(np.sqrt(gamma) * Lhp.dag())\n",
    "\n",
    "    gamma = ratebar(nuC,betaC,E[1])\n",
    "    if gamma > 0.0:\n",
    "        c_ops.append(np.sqrt(gamma) * Lcm)\n",
    "\n",
    "    gamma = ratebar(nuH,betaH,E[1])\n",
    "    if gamma > 0.0:\n",
    "        c_ops.append(np.sqrt(gamma) * Lhm)\n",
    "\n",
    "    gamma = ratebar(nuC,betaC,E[2])\n",
    "    if gamma > 0.0:\n",
    "        c_ops.append(np.sqrt(gamma) * Lcp)\n",
    "\n",
    "    gamma = ratebar(nuH,betaH,E[2])\n",
    "    if gamma > 0.0:\n",
    "        c_ops.append(np.sqrt(gamma) * Lhp)\n",
    "        \n",
    "    return c_ops\n",
    "    \n",
    "def Work(rho,U,H):\n",
    "    return (H*U*rho*U.dag()-H*rho).tr()\n",
    "\n",
    "\n",
    "#this is wrong#\n",
    "def WorkVar(rho,U,H):\n",
    "    eigH=[]\n",
    "    for V in H.eigenstates()[1]:\n",
    "        eigH.append(V)\n",
    "    N=len(eigH)\n",
    "    W2=0\n",
    "    for n in range(N):\n",
    "        for m in range(N):\n",
    "            W2+=eigH[n].dag()*rho*eigH[n]*abs(eigH[m].dag()*U*eigH[n])**2*(eigH[m].dag()*H*U*rho*U.dag()*eigH[m]-eigH[n].dag()*H*rho*eigH[n])**2\n",
    "    return float(np.real(W2-Work(rho,U,H)**2))"
   ]
  },
  {
   "cell_type": "markdown",
   "id": "c6d59694",
   "metadata": {},
   "source": [
    "# Two qubits hamiltonian"
   ]
  },
  {
   "cell_type": "markdown",
   "id": "0cb96fbf",
   "metadata": {},
   "source": [
    "$$\\newcommand{\\ket}[1]{\\left|{#1}\\right\\rangle}$$\n",
    "$$\\newcommand{\\bra}[1]{\\left\\langle{#1}\\right|}$$\n",
    "We consider a system $S$ composed of two qubits. \n",
    "\n",
    "The Hamiltonian of $S$ is \n",
    "\n",
    "\\begin{equation}\n",
    "H=H_0+H_{int} \n",
    "\\,\n",
    ",\n",
    "\\end{equation}\n",
    "with\n",
    "\\begin{align}\n",
    "\t{H_0}&=\\Omega_c \\ket{1}\\bra{1}\\otimes\\mathbb{I}_2 + \\Omega_h \\mathbb{I}_2 \\otimes \\ket{1}\\bra{1}\n",
    "\t\\end{align}\n",
    "\n",
    "containing the local Hamiltonians of each subsystem and a coupling flip-flop term \n",
    "\n",
    "\\begin{equation}\n",
    "\t{H}_{int}=g(\\ket{01}\\bra{10} + \\ket{10}\\bra{01})~.\n",
    "\\end{equation}\n",
    "\n",
    "We consider for simplicity the resonant case $\\Omega_c=\\Omega_h\\equiv\\Omega$ that makes the eigenvalues of $H$ ($0$, $\\Omega- g$, $\\Omega+g$, $2\\Omega$) with eigenvectors\n",
    "\\begin{align}\\nonumber\n",
    "\t\\ket{\\varphi_0}&=\\ket{0,0}\\\\\n",
    "\t\\nonumber\n",
    "\t\\ket{\\varphi_{\\Omega\\pm g}}&=\\frac{\\ket{0,1}\\pm\\ket{1,0}}{\\sqrt{2}}\\\\\n",
    "\t%\\nonumber\n",
    "\t\\ket{\\varphi_{2\\Omega}}&=\\ket{1,1}\\,.\n",
    "\t\\label{eigenvectors}\n",
    "\t\\end{align}"
   ]
  },
  {
   "cell_type": "code",
   "execution_count": 6,
   "id": "42a3170f",
   "metadata": {},
   "outputs": [
    {
     "name": "stdout",
     "output_type": "stream",
     "text": [
      "**The Hamiltonian of the system is ** \n",
      "\n",
      "Quantum object: dims = [[2, 2], [2, 2]], shape = (4, 4), type = oper, isherm = True\n",
      "Qobj data =\n",
      "[[0.  0.  0.  0. ]\n",
      " [0.  1.  0.5 0. ]\n",
      " [0.  0.5 1.  0. ]\n",
      " [0.  0.  0.  2. ]]\n",
      "\n",
      "** The energy levels are **\n",
      "\n",
      "[0.  0.5 1.5 2. ]\n",
      "\n",
      " ** The corresponding eigenstates are **\n",
      "\n",
      "[Quantum object: dims = [[2, 2], [1, 1]], shape = (4, 1), type = ket\n",
      "Qobj data =\n",
      "[[1.]\n",
      " [0.]\n",
      " [0.]\n",
      " [0.]], Quantum object: dims = [[2, 2], [1, 1]], shape = (4, 1), type = ket\n",
      "Qobj data =\n",
      "[[ 0.        ]\n",
      " [ 0.70710678]\n",
      " [-0.70710678]\n",
      " [ 0.        ]], Quantum object: dims = [[2, 2], [1, 1]], shape = (4, 1), type = ket\n",
      "Qobj data =\n",
      "[[0.        ]\n",
      " [0.70710678]\n",
      " [0.70710678]\n",
      " [0.        ]], Quantum object: dims = [[2, 2], [1, 1]], shape = (4, 1), type = ket\n",
      "Qobj data =\n",
      "[[0.]\n",
      " [0.]\n",
      " [0.]\n",
      " [1.]]]\n"
     ]
    }
   ],
   "source": [
    "Omega=1 #Energy spacing of the qubits\n",
    "g=0.5 #Qubits interaction strength\n",
    "nuC=0.004 #Coupling to cold bath\n",
    "nuH=0.004 #Coupling to hot bath\n",
    "betaC=2 #Inverse temperature of the cold bath\n",
    "betaH=1 #Inverse temperature of the hot bath\n",
    "\n",
    "\n",
    "Proj1=basis(2,1).proj() #Projector operator |1><1|\n",
    "Flip=Qobj([[0, 0, 0, 0],[0, 0, 1, 0],[0, 1, 0, 0], [0, 0, 0, 0]], dims=[[2, 2], [2, 2]]) #Flip-Flop operator |01><10|+|10><01|\n",
    "H_0=Omega*(tensor(Proj1,qeye(2))+tensor(qeye(2),Proj1))\n",
    "H_int=g*Flip\n",
    "H=H_0+H_int\n",
    "U=Qobj([[0,0,0,1],[0,1,0,0],[0,0,-1,0],[1,0,0,0]],dims=[[2,2],[2,2]])\n",
    "\n",
    "print('**The Hamiltonian of the system is ** \\n')\n",
    "print(H)\n",
    "\n",
    "E=H.eigenenergies()\n",
    "print('\\n** The energy levels are **\\n')\n",
    "print(E)\n",
    "eigH=[]\n",
    "\n",
    "for V in H.eigenstates()[1]:\n",
    "    eigH.append(V)\n",
    "    \n",
    "print('\\n ** The corresponding eigenstates are **\\n')\n",
    "print(eigH)"
   ]
  },
  {
   "cell_type": "markdown",
   "id": "c55ba8bb",
   "metadata": {},
   "source": [
    "# Dynamics"
   ]
  },
  {
   "cell_type": "markdown",
   "id": "97edf5ef",
   "metadata": {},
   "source": [
    "The system is in {weak} coupling with two {Markovian} thermal baths $B_c$ and $B_h$ at temperatures $1/\\beta_c$ (colder) and $1/\\beta_h$ (hotter), respectively. \n",
    "\n",
    "We also assume the thermal baths to be bosonic interacting with the system by a flip-flop interaction Hamiltonian. \n",
    "\n",
    "In this framework, the dynamics of $S$ is described by the  Gorini–Kossakowski–Sudarshan–Lindblad equation (GKSL).\n",
    "\n",
    "Furthermore, we consider Ohmic spectral density and, more importantly, strong internal coupling with the aim of generating entanglement.\n",
    "According to this setup, only transitions with energies $\\Omega\\pm g$ can be induced by the system-bath coupling considered here, with \n",
    "\n",
    "corresponding jump operators being\n",
    "\n",
    "\\begin{align}\n",
    "\t{L}_{c,\\Omega-g}&=\\frac{1}{\\sqrt{2}}\\ket{\\varphi_{\\Omega+g}}\\bra{\\varphi_{2\\Omega}}-\\frac{1}{\\sqrt{2}}\\ket{\\varphi_0}\\bra{\\varphi_{\\Omega-g}}\\\\\n",
    "\t{L}_{c,\\Omega+g}&=\\frac{1}{\\sqrt{2}}\\ket{\\varphi_{\\Omega-g}}\\bra{\\varphi_{2\\Omega}}+\\frac{1}{\\sqrt{2}}\\ket{\\varphi_0}\\bra{\\varphi_{\\Omega+g}}\\\\\n",
    "\t{L}_{h,\\Omega-g}&=\\frac{1}{\\sqrt{2}}\\ket{\\varphi_{\\Omega+g}}\\bra{\\varphi_{2\\Omega}}+\\frac{1}{\\sqrt{2}}\\ket{\\varphi_0}\\bra{\\varphi_{\\Omega-g}}\\\\\n",
    "\t{L}_{h,\\Omega+g}&=-\\frac{1}{\\sqrt{2}}\\ket{\\varphi_{\\Omega-g}}\\bra{\\varphi_{2\\Omega}}+\\frac{1}{\\sqrt{2}}\\ket{\\varphi_0}\\bra{\\varphi_{\\Omega+g}}\\,.\n",
    "\t\\end{align}"
   ]
  },
  {
   "cell_type": "code",
   "execution_count": 8,
   "id": "53844ed6",
   "metadata": {},
   "outputs": [],
   "source": [
    "Lcm=Qobj(eigH[2]*eigH[3].dag()-eigH[0]*eigH[1].dag())/np.sqrt(2)\n",
    "Lcp=Qobj(eigH[1]*eigH[3].dag()+eigH[0]*eigH[2].dag())/np.sqrt(2)\n",
    "Lhm=Qobj(eigH[2]*eigH[3].dag()+eigH[0]*eigH[1].dag())/np.sqrt(2)\n",
    "Lhp=Qobj(-eigH[1]*eigH[3].dag()+eigH[0]*eigH[2].dag())/np.sqrt(2)"
   ]
  },
  {
   "cell_type": "markdown",
   "id": "163d17a4",
   "metadata": {},
   "source": [
    "In this regime the global master equation yields an accurate description of the system state.\n",
    "\n",
    "\\begin{multline}\n",
    "\t\\dot{\\rho}(t) = -i\\left[ {H}_S, {\\rho}(t)\\right] +  \\sum_{\\alpha=c,h} \\sum_{\\epsilon=\\Omega\\pm g} \\Big(\\Gamma_{\\alpha,\\epsilon} \\mathcal{D}[{L}_{\\alpha,\\epsilon}^\\dagger]{\\rho}(t) + \\overline{\\Gamma}_{\\alpha,\\epsilon} \\mathcal{D}[{L}_{\\alpha,\\epsilon}]{\\rho}(t)\\Big)\n",
    "\t\\end{multline}"
   ]
  },
  {
   "cell_type": "code",
   "execution_count": 9,
   "id": "25795bca",
   "metadata": {},
   "outputs": [
    {
     "name": "stdout",
     "output_type": "stream",
     "text": [
      "** The rates are: **\n",
      "\n",
      "0.001163953413738653\n",
      "0.0030829881650735963\n",
      "0.00031437417894753574\n",
      "0.0017233015007332097\n",
      "0.003163953413738653\n",
      "0.005082988165073596\n",
      "0.006314374178947536\n",
      "0.007723301500733209\n",
      "\n",
      " ** The jump operators are: **\n",
      "\n",
      "[Quantum object: dims = [[2, 2], [2, 2]], shape = (4, 4), type = oper, isherm = False\n",
      "Qobj data =\n",
      "[[ 0.          0.          0.          0.        ]\n",
      " [-0.00058198  0.          0.          0.        ]\n",
      " [ 0.00058198  0.          0.          0.        ]\n",
      " [ 0.          0.00058198  0.00058198  0.        ]], Quantum object: dims = [[2, 2], [2, 2]], shape = (4, 4), type = oper, isherm = False\n",
      "Qobj data =\n",
      "[[ 0.          0.          0.          0.        ]\n",
      " [ 0.00154149  0.          0.          0.        ]\n",
      " [-0.00154149  0.          0.          0.        ]\n",
      " [ 0.          0.00154149  0.00154149  0.        ]], Quantum object: dims = [[2, 2], [2, 2]], shape = (4, 4), type = oper, isherm = False\n",
      "Qobj data =\n",
      "[[ 0.          0.          0.          0.        ]\n",
      " [ 0.00015719  0.          0.          0.        ]\n",
      " [ 0.00015719  0.          0.          0.        ]\n",
      " [ 0.          0.00015719 -0.00015719  0.        ]], Quantum object: dims = [[2, 2], [2, 2]], shape = (4, 4), type = oper, isherm = False\n",
      "Qobj data =\n",
      "[[ 0.          0.          0.          0.        ]\n",
      " [ 0.00086165  0.          0.          0.        ]\n",
      " [ 0.00086165  0.          0.          0.        ]\n",
      " [ 0.         -0.00086165  0.00086165  0.        ]], Quantum object: dims = [[2, 2], [2, 2]], shape = (4, 4), type = oper, isherm = False\n",
      "Qobj data =\n",
      "[[ 0.         -0.00158198  0.00158198  0.        ]\n",
      " [ 0.          0.          0.          0.00158198]\n",
      " [ 0.          0.          0.          0.00158198]\n",
      " [ 0.          0.          0.          0.        ]], Quantum object: dims = [[2, 2], [2, 2]], shape = (4, 4), type = oper, isherm = False\n",
      "Qobj data =\n",
      "[[ 0.          0.00254149 -0.00254149  0.        ]\n",
      " [ 0.          0.          0.          0.00254149]\n",
      " [ 0.          0.          0.          0.00254149]\n",
      " [ 0.          0.          0.          0.        ]], Quantum object: dims = [[2, 2], [2, 2]], shape = (4, 4), type = oper, isherm = False\n",
      "Qobj data =\n",
      "[[ 0.          0.00315719  0.00315719  0.        ]\n",
      " [ 0.          0.          0.          0.00315719]\n",
      " [ 0.          0.          0.         -0.00315719]\n",
      " [ 0.          0.          0.          0.        ]], Quantum object: dims = [[2, 2], [2, 2]], shape = (4, 4), type = oper, isherm = False\n",
      "Qobj data =\n",
      "[[ 0.          0.00386165  0.00386165  0.        ]\n",
      " [ 0.          0.          0.         -0.00386165]\n",
      " [ 0.          0.          0.          0.00386165]\n",
      " [ 0.          0.          0.          0.        ]]]\n",
      "\n",
      " ** The jump operators in the Hamiltonian eigenbasis are: **\n",
      "\n",
      "[Quantum object: dims = [[2, 2], [2, 2]], shape = (4, 4), type = oper, isherm = False\n",
      " Qobj data =\n",
      " [[ 0.          0.          0.          0.        ]\n",
      "  [-0.00082304  0.          0.          0.        ]\n",
      "  [ 0.          0.          0.          0.        ]\n",
      "  [ 0.          0.          0.00082304  0.        ]]\n",
      " Quantum object: dims = [[2, 2], [2, 2]], shape = (4, 4), type = oper, isherm = False\n",
      " Qobj data =\n",
      " [[0.      0.      0.      0.     ]\n",
      "  [0.00218 0.      0.      0.     ]\n",
      "  [0.      0.      0.      0.     ]\n",
      "  [0.      0.      0.00218 0.     ]]\n",
      " Quantum object: dims = [[2, 2], [2, 2]], shape = (4, 4), type = oper, isherm = False\n",
      " Qobj data =\n",
      " [[0.        0.        0.        0.       ]\n",
      "  [0.        0.        0.        0.       ]\n",
      "  [0.0002223 0.        0.        0.       ]\n",
      "  [0.        0.0002223 0.        0.       ]]\n",
      " Quantum object: dims = [[2, 2], [2, 2]], shape = (4, 4), type = oper, isherm = False\n",
      " Qobj data =\n",
      " [[ 0.          0.          0.          0.        ]\n",
      "  [ 0.          0.          0.          0.        ]\n",
      "  [ 0.00121856  0.          0.          0.        ]\n",
      "  [ 0.         -0.00121856  0.          0.        ]]\n",
      " Quantum object: dims = [[2, 2], [2, 2]], shape = (4, 4), type = oper, isherm = False\n",
      " Qobj data =\n",
      " [[ 0.         -0.00223725  0.          0.        ]\n",
      "  [ 0.          0.          0.          0.        ]\n",
      "  [ 0.          0.          0.          0.00223725]\n",
      "  [ 0.          0.          0.          0.        ]]\n",
      " Quantum object: dims = [[2, 2], [2, 2]], shape = (4, 4), type = oper, isherm = False\n",
      " Qobj data =\n",
      " [[0.         0.00359422 0.         0.        ]\n",
      "  [0.         0.         0.         0.        ]\n",
      "  [0.         0.         0.         0.00359422]\n",
      "  [0.         0.         0.         0.        ]]\n",
      " Quantum object: dims = [[2, 2], [2, 2]], shape = (4, 4), type = oper, isherm = False\n",
      " Qobj data =\n",
      " [[0.         0.         0.00446494 0.        ]\n",
      "  [0.         0.         0.         0.00446494]\n",
      "  [0.         0.         0.         0.        ]\n",
      "  [0.         0.         0.         0.        ]]\n",
      " Quantum object: dims = [[2, 2], [2, 2]], shape = (4, 4), type = oper, isherm = False\n",
      " Qobj data =\n",
      " [[ 0.         0.         0.0054612  0.       ]\n",
      "  [ 0.         0.         0.        -0.0054612]\n",
      "  [ 0.         0.         0.         0.       ]\n",
      "  [ 0.         0.         0.         0.       ]]                                     ]\n"
     ]
    }
   ],
   "source": [
    "c_ops = []\n",
    "\n",
    "print('** The rates are: **\\n')\n",
    "\n",
    "gamma = rate(nuC,betaC,E[1])\n",
    "print(gamma)\n",
    "if gamma > 0.0:\n",
    "    c_ops.append(gamma * Lcm.dag())\n",
    "\n",
    "gamma = rate(nuH,betaH,E[1])\n",
    "print(gamma)\n",
    "\n",
    "if gamma > 0.0:\n",
    "    c_ops.append(gamma * Lhm.dag())\n",
    "    \n",
    "gamma = rate(nuC,betaC,E[2])\n",
    "print(gamma)\n",
    "\n",
    "if gamma > 0.0:\n",
    "    c_ops.append(gamma * Lcp.dag())\n",
    "    \n",
    "gamma = rate(nuH,betaH,E[2])\n",
    "print(gamma)\n",
    "\n",
    "if gamma > 0.0:\n",
    "    c_ops.append(gamma * Lhp.dag())\n",
    "    \n",
    "gamma = ratebar(nuC,betaC,E[1])\n",
    "print(gamma)\n",
    "\n",
    "if gamma > 0.0:\n",
    "    c_ops.append(gamma * Lcm)\n",
    "\n",
    "gamma = ratebar(nuH,betaH,E[1])\n",
    "print(gamma)\n",
    "\n",
    "if gamma > 0.0:\n",
    "    c_ops.append(gamma * Lhm)\n",
    "    \n",
    "gamma = ratebar(nuC,betaC,E[2])\n",
    "print(gamma)\n",
    "\n",
    "if gamma > 0.0:\n",
    "    c_ops.append(gamma * Lcp)\n",
    "    \n",
    "gamma = ratebar(nuH,betaH,E[2])\n",
    "print(gamma)\n",
    "\n",
    "if gamma > 0.0:\n",
    "    c_ops.append(gamma * Lhp)\n",
    "    \n",
    "\n",
    "print('\\n ** The jump operators are: **\\n')\n",
    "\n",
    "print(c_ops)\n",
    "\n",
    "print('\\n ** The jump operators in the Hamiltonian eigenbasis are: **\\n')\n",
    "\n",
    "print(rotateToEigenH(c_ops,H))"
   ]
  },
  {
   "cell_type": "code",
   "execution_count": 10,
   "id": "67173e32",
   "metadata": {},
   "outputs": [],
   "source": [
    "rho0=ket2dm((eigH[1]+eigH[2])/np.sqrt(2))\n",
    "tlist = np.linspace(0, 2000, 100)\n",
    "\n",
    "output = mesolve(H, rho0, tlist, c_ops, [])"
   ]
  },
  {
   "cell_type": "code",
   "execution_count": 11,
   "id": "5b260e64",
   "metadata": {},
   "outputs": [
    {
     "data": {
      "image/png": "[encoded data removed]",
      "text/plain": [
       "<Figure size 432x288 with 1 Axes>"
      ]
     },
     "metadata": {
      "needs_background": "light"
     },
     "output_type": "display_data"
    }
   ],
   "source": [
    "fig, axes = plt.subplots(1,1)\n",
    "\n",
    "axes.plot(tlist, expect(H, output.states))\n",
    "\n",
    "axes.set_xlabel(r'$t$', fontsize=20)\n",
    "axes.set_ylabel(r'$\\left<H\\right>$', fontsize=20);"
   ]
  },
  {
   "cell_type": "markdown",
   "id": "be410297",
   "metadata": {},
   "source": [
    "The NESS, the stationary state of equation, is diagonal in the Hamiltonian basis,\n",
    "\n",
    "\n",
    "\\begin{eqnarray}\n",
    "\\label{ness}\n",
    "    {\\rho}_{ness} =\\rho_0 \\ket{\\varphi_0}\\bra{\\varphi_0}+\n",
    "    \\rho_- \\ket{\\varphi_{\\Omega-g}}\\bra{\\varphi_{\\Omega-g}}+\\nonumber\n",
    "    \\rho_+\\ket{\\varphi_{\\Omega+g}}\\bra{\\varphi_{\\Omega+g}}+\\nonumber\n",
    "    \\rho_{2\\Omega} \\ket{\\varphi_{2 \\Omega}}\\bra{\\varphi_{2 \\Omega}}\\nonumber\\,,\n",
    "\\end{eqnarray}\n",
    "\n",
    "with coefficients\n",
    "\n",
    "\\begin{eqnarray}\n",
    "     \\rho_0&=&a (\\overline{\\Gamma}_{c,\\Omega-g}+\\overline{\\Gamma}_{h,\\Omega-g})(\\overline{\\Gamma}_{c,\\Omega+g}+\\overline{\\Gamma}_{h,\\Omega+g}) \\,,\\\\\n",
    "    %\n",
    "    \\rho_-&=&a (\\Gamma_{c,\\Omega-g}+\\Gamma_{h,\\Omega-g})(\\overline{\\Gamma}_{c,\\Omega+g}+\\overline{\\Gamma}_{h,\\Omega+g})\\,,\\\\\n",
    "    %\n",
    "    \\rho_+&=&a (\\overline{\\Gamma}_{c,\\Omega-g}+\\overline{\\Gamma}_{h,\\Omega-g})(\\Gamma_{c,\\Omega+g}+\\Gamma_{h,\\Omega+g})\\,,\\\\\n",
    "    %\n",
    "    \\rho_{2 \\Omega}&=&a (\\Gamma_{c,\\Omega-g}+\\Gamma_{h,\\Omega-g})(\\Gamma_{c,\\Omega+g}+\\Gamma_{h,\\Omega+g})\\,,\n",
    "    \\end{eqnarray}\n",
    "    \n",
    "where the common proportionality  coefficient $a$ is the positive normalization quantity ensuring $Tr({\\rho}_{ness}) = 1$."
   ]
  },
  {
   "cell_type": "code",
   "execution_count": 12,
   "id": "1a62053b",
   "metadata": {},
   "outputs": [
    {
     "name": "stdout",
     "output_type": "stream",
     "text": [
      "The steady state of the above dynamics is \n",
      "\n"
     ]
    },
    {
     "data": {
      "text/latex": [
       "Quantum object: dims = [[2, 2], [2, 2]], shape = (4, 4), type = oper, isherm = True\\begin{equation*}\\left(\\begin{array}{*{11}c}0.576 & 0.0 & 0.0 & 0.0\\\\0.0 & 0.190 & -0.107 & 0.0\\\\0.0 & -0.107 & 0.190 & 0.0\\\\0.0 & 0.0 & 0.0 & 0.043\\\\\\end{array}\\right)\\end{equation*}"
      ],
      "text/plain": [
       "Quantum object: dims = [[2, 2], [2, 2]], shape = (4, 4), type = oper, isherm = True\n",
       "Qobj data =\n",
       "[[ 0.57640828+0.00000000e+00j  0.        +0.00000000e+00j\n",
       "   0.        +0.00000000e+00j  0.        +0.00000000e+00j]\n",
       " [ 0.        +0.00000000e+00j  0.19025201+0.00000000e+00j\n",
       "  -0.10658195+2.06704562e-19j  0.        +0.00000000e+00j]\n",
       " [ 0.        +0.00000000e+00j -0.10658195-2.06704562e-19j\n",
       "   0.19025201+0.00000000e+00j  0.        +0.00000000e+00j]\n",
       " [ 0.        +0.00000000e+00j  0.        +0.00000000e+00j\n",
       "   0.        +0.00000000e+00j  0.04308771+0.00000000e+00j]]"
      ]
     },
     "execution_count": 12,
     "metadata": {},
     "output_type": "execute_result"
    }
   ],
   "source": [
    "params=[nuC,nuH,betaC,betaH] \n",
    "rhoSS=steadystate(H,jumpOp(params,H))\n",
    "print('The steady state of the above dynamics is \\n')\n",
    "rhoSS"
   ]
  },
  {
   "cell_type": "code",
   "execution_count": 13,
   "id": "0ed2477e",
   "metadata": {},
   "outputs": [
    {
     "name": "stdout",
     "output_type": "stream",
     "text": [
      "[[0.57640828+0.j 0.        +0.j 0.        +0.j 0.        +0.j]\n",
      " [0.        +0.j 0.19025201+0.j 0.10658195+0.j 0.        +0.j]\n",
      " [0.        +0.j 0.10658195+0.j 0.19025201+0.j 0.        +0.j]\n",
      " [0.        +0.j 0.        +0.j 0.        +0.j 0.04308771+0.j]]\n"
     ]
    }
   ],
   "source": [
    "rho0=(ratebar(nuC,betaC,E[1])+ratebar(nuH,betaH,E[1]))*(ratebar(nuC,betaC,E[2])+ratebar(nuH,betaH,E[2]))\n",
    "rhom=(rate(nuC,betaC,E[1])+rate(nuH,betaH,E[1]))*(ratebar(nuC,betaC,E[2])+ratebar(nuH,betaH,E[2]))\n",
    "rhop=(rate(nuC,betaC,E[2])+rate(nuH,betaH,E[2]))*(ratebar(nuC,betaC,E[1])+ratebar(nuH,betaH,E[1]))\n",
    "rho2=(rate(nuC,betaC,E[1])+rate(nuH,betaH,E[1]))*(rate(nuC,betaC,E[2])+rate(nuH,betaH,E[2]))\n",
    "\n",
    "rss=np.diag([rho0,rhom,rhop,rho2])\n",
    "rss=rss/np.trace(rss)\n",
    "print(rotateToEigenH(rss,H))"
   ]
  },
  {
   "cell_type": "markdown",
   "id": "adb193da",
   "metadata": {},
   "source": [
    "# Thermodynamic Cycle"
   ]
  },
  {
   "cell_type": "markdown",
   "id": "c4bc7724",
   "metadata": {},
   "source": [
    "Here we compute the signal-to-noise ratio of work extraction from the system after the application of the unitary."
   ]
  },
  {
   "cell_type": "code",
   "execution_count": 24,
   "id": "279a8441",
   "metadata": {},
   "outputs": [],
   "source": [
    "NNN=20\n",
    "ggg=np.linspace(0.5,0.9,NNN)\n",
    "W=np.zeros(NNN)\n",
    "for i in range(NNN):\n",
    "    H=H_0+ggg[i]*Flip\n",
    "    W[i]=Work(rhoSS,U,H)\n"
   ]
  },
  {
   "cell_type": "code",
   "execution_count": 25,
   "id": "78099ee4",
   "metadata": {},
   "outputs": [
    {
     "data": {
      "image/png": "[encoded data removed]",
      "text/plain": [
       "<Figure size 432x288 with 1 Axes>"
      ]
     },
     "metadata": {
      "needs_background": "light"
     },
     "output_type": "display_data"
    }
   ],
   "source": [
    "fig, axes = plt.subplots(1,1)\n",
    "\n",
    "axes.plot(ggg, W)\n",
    "\n",
    "axes.set_xlabel(r'$g$', fontsize=20)\n",
    "axes.set_ylabel(r'$\\left<W\\right>$', fontsize=20);"
   ]
  },
  {
   "cell_type": "code",
   "execution_count": 26,
   "id": "94996855",
   "metadata": {},
   "outputs": [
    {
     "name": "stdout",
     "output_type": "stream",
     "text": [
      "The steady state of the above dynamics in the energy eigenbasis is \n",
      "\n"
     ]
    },
    {
     "data": {
      "text/latex": [
       "Quantum object: dims = [[2, 2], [2, 2]], shape = (4, 4), type = oper, isherm = True\\begin{equation*}\\left(\\begin{array}{*{11}c}0.576 & 0.0 & 0.0 & 0.0\\\\0.0 & 0.297 & 0.0 & 0.0\\\\0.0 & 0.0 & 0.084 & 0.0\\\\0.0 & 0.0 & 0.0 & 0.043\\\\\\end{array}\\right)\\end{equation*}"
      ],
      "text/plain": [
       "Quantum object: dims = [[2, 2], [2, 2]], shape = (4, 4), type = oper, isherm = True\n",
       "Qobj data =\n",
       "[[0.57640828 0.         0.         0.        ]\n",
       " [0.         0.29683395 0.         0.        ]\n",
       " [0.         0.         0.08367006 0.        ]\n",
       " [0.         0.         0.         0.04308771]]"
      ]
     },
     "execution_count": 26,
     "metadata": {},
     "output_type": "execute_result"
    }
   ],
   "source": [
    "nuC=0.004 #Coupling to cold bath\n",
    "nuH=0.004 #Coupling to hot bath\n",
    "betaC=2 #Inverse temperature of the cold bath\n",
    "betaH=1 #Inverse temperature of the hot bath\n",
    "g=0.5\n",
    "\n",
    "H_0=Omega*(tensor(Proj1,qeye(2))+tensor(qeye(2),Proj1))\n",
    "H_int=g*Flip\n",
    "H=H_0+H_int\n",
    "\n",
    "params=[nuC,nuH,betaC,betaH] \n",
    "rhoSS=steadystate(H,jumpOp(params,H))\n",
    "print('The steady state of the above dynamics in the energy eigenbasis is \\n')\n",
    "rotateToEigenH(rhoSS,H)"
   ]
  },
  {
   "cell_type": "code",
   "execution_count": null,
   "id": "7680b510",
   "metadata": {},
   "outputs": [],
   "source": []
  }
 ],
 "metadata": {
  "kernelspec": {
   "display_name": "Python 3",
   "language": "python",
   "name": "python3"
  },
  "language_info": {
   "codemirror_mode": {
    "name": "ipython",
    "version": 3
   },
   "file_extension": ".py",
   "mimetype": "text/x-python",
   "name": "python",
   "nbconvert_exporter": "python",
   "pygments_lexer": "ipython3",
   "version": "3.10.4"
  }
 },
 "nbformat": 4,
 "nbformat_minor": 5
}
